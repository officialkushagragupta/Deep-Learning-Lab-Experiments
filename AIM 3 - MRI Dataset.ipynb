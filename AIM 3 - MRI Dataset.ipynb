{
 "cells": [
  {
   "cell_type": "code",
   "execution_count": 12,
   "id": "bc8b3b93",
   "metadata": {},
   "outputs": [
    {
     "name": "stdout",
     "output_type": "stream",
     "text": [
      "Found 1863 images belonging to 3 classes.\n",
      "Found 464 images belonging to 3 classes.\n"
     ]
    }
   ],
   "source": [
    "from tensorflow.keras.preprocessing.image import ImageDataGenerator\n",
    "\n",
    "# Define the path to your dataset directory\n",
    "dataset_dir = \"C:/Users/Kushagra Gupta/Desktop/Mait study Resources + Fees + ID Cards/Sem5/ML Lab\"\n",
    "\n",
    "# test_dir = 'C:/Users/Kushagra Gupta/Desktop/Mait study Resources + Fees + ID Cards/Sem5/ML Lab/Testing'\n",
    "# train_dir = 'C:/Users/Kushagra Gupta/Desktop/Mait study Resources + Fees + ID Cards/Sem5/ML Lab/Training'\n",
    "\n",
    "# Create an ImageDataGenerator for data augmentation and preprocessing\n",
    "datagen = ImageDataGenerator(\n",
    "    rescale=1.0/255.0,       # Rescale pixel values to the range [0, 1]\n",
    "    validation_split=0.2,    # Split data into training (80%) and validation (20%)\n",
    ")\n",
    "\n",
    "# Load and prepare the training dataset\n",
    "train_generator = datagen.flow_from_directory(\n",
    "    dataset_dir,\n",
    "    target_size=(224, 224),  # Resize images to a common size\n",
    "    batch_size=32,\n",
    "    class_mode='categorical',  # For multi-class classification\n",
    "    subset='training'        # Specify 'training' subset\n",
    ")\n",
    "\n",
    "# Load and prepare the validation dataset\n",
    "valid_generator = datagen.flow_from_directory(\n",
    "    dataset_dir,\n",
    "    target_size=(224, 224),\n",
    "    batch_size=32,\n",
    "    class_mode='categorical',  # For multi-class classification\n",
    "    subset='validation'      # Specify 'validation' subset\n",
    ")\n"
   ]
  },
  {
   "cell_type": "code",
   "execution_count": 14,
   "id": "4cd1375c",
   "metadata": {},
   "outputs": [
    {
     "name": "stdout",
     "output_type": "stream",
     "text": [
      "Found 2327 images belonging to 3 classes.\n"
     ]
    }
   ],
   "source": [
    "from tensorflow.keras.preprocessing.image import ImageDataGenerator\n",
    "\n",
    "# Define the path to the directory containing your new data\n",
    "new_data_dir = \"C:/Users/Kushagra Gupta/Desktop/Mait study Resources + Fees + ID Cards/Sem5/ML Lab\"\n",
    "\n",
    "# Create a new ImageDataGenerator for preprocessing (no need for data augmentation)\n",
    "new_datagen = ImageDataGenerator(rescale=1.0/255.0)\n",
    "\n",
    "# Load and prepare the new data\n",
    "new_data_generator = new_datagen.flow_from_directory(\n",
    "    new_data_dir,\n",
    "    target_size=(224, 224),  # Resize images to the same size as your training data\n",
    "    batch_size=32,\n",
    "    class_mode=None,  # Set to None since you won't have class labels for prediction\n",
    "    shuffle=False      # Disable shuffling to keep track of file order\n",
    ")\n"
   ]
  },
  {
   "cell_type": "code",
   "execution_count": 15,
   "id": "2c7ac9e0",
   "metadata": {
    "scrolled": true
   },
   "outputs": [
    {
     "name": "stdout",
     "output_type": "stream",
     "text": [
      "Epoch 1/10\n",
      "59/59 [==============================] - 65s 1s/step - loss: 0.3800 - accuracy: 0.8631 - val_loss: 0.2603 - val_accuracy: 0.8944\n",
      "Epoch 2/10\n",
      "59/59 [==============================] - 64s 1s/step - loss: 0.2816 - accuracy: 0.8932 - val_loss: 0.2965 - val_accuracy: 0.8901\n",
      "Epoch 3/10\n",
      "59/59 [==============================] - 64s 1s/step - loss: 0.2464 - accuracy: 0.8916 - val_loss: 0.2811 - val_accuracy: 0.9246\n",
      "Epoch 4/10\n",
      "59/59 [==============================] - 66s 1s/step - loss: 0.2189 - accuracy: 0.8975 - val_loss: 0.2737 - val_accuracy: 0.9095\n",
      "Epoch 5/10\n",
      "59/59 [==============================] - 66s 1s/step - loss: 0.2018 - accuracy: 0.9023 - val_loss: 0.2905 - val_accuracy: 0.9159\n",
      "Epoch 6/10\n",
      "59/59 [==============================] - 64s 1s/step - loss: 0.1792 - accuracy: 0.9071 - val_loss: 0.3177 - val_accuracy: 0.9052\n",
      "Epoch 7/10\n",
      "59/59 [==============================] - 65s 1s/step - loss: 0.1682 - accuracy: 0.9114 - val_loss: 0.2576 - val_accuracy: 0.9310\n",
      "Epoch 8/10\n",
      "59/59 [==============================] - 64s 1s/step - loss: 0.1672 - accuracy: 0.9082 - val_loss: 0.3288 - val_accuracy: 0.9052\n",
      "Epoch 9/10\n",
      "59/59 [==============================] - 65s 1s/step - loss: 0.1613 - accuracy: 0.9136 - val_loss: 0.3171 - val_accuracy: 0.9073\n",
      "Epoch 10/10\n",
      "59/59 [==============================] - 65s 1s/step - loss: 0.1605 - accuracy: 0.9087 - val_loss: 0.2858 - val_accuracy: 0.9116\n",
      "15/15 [==============================] - 4s 266ms/step - loss: 0.2858 - accuracy: 0.9116\n",
      "Test accuracy: 0.9116379022598267\n",
      "73/73 [==============================] - 19s 262ms/step\n"
     ]
    }
   ],
   "source": [
    "import tensorflow as tf\n",
    "from tensorflow import keras\n",
    "from tensorflow.keras import layers\n",
    "\n",
    "# Define the model\n",
    "model = keras.Sequential([\n",
    "    layers.Conv2D(32, (3, 3), activation='relu', input_shape=(224, 224, 3)),\n",
    "    layers.MaxPooling2D((2, 2)),\n",
    "    layers.Conv2D(64, (3, 3), activation='relu'),\n",
    "    layers.MaxPooling2D((2, 2)),\n",
    "    layers.Conv2D(128, (3, 3), activation='relu'),\n",
    "    layers.MaxPooling2D((2, 2)),\n",
    "    layers.Flatten(),\n",
    "    layers.Dense(128, activation='relu'),\n",
    "    layers.Dense(3, activation='softmax')  # Multi-class classification with softmax\n",
    "])\n",
    "\n",
    "# Compile the model\n",
    "model.compile(\n",
    "    optimizer='adam',\n",
    "    loss='categorical_crossentropy',  # Use categorical cross-entropy for multi-class\n",
    "    metrics=['accuracy']\n",
    ")\n",
    "\n",
    "# Train the model\n",
    "history = model.fit(\n",
    "    train_generator,\n",
    "    epochs=10,                  # Specify the number of training epochs\n",
    "    validation_data=valid_generator\n",
    ")\n",
    "\n",
    "# Evaluate the model on the validation dataset\n",
    "test_loss, test_accuracy = model.evaluate(valid_generator)\n",
    "print(\"Test accuracy:\", test_accuracy)\n",
    "\n",
    "# Make predictions on new data\n",
    "predictions = model.predict(new_data_generator)\n"
   ]
  },
  {
   "cell_type": "code",
   "execution_count": null,
   "id": "387b7c76",
   "metadata": {},
   "outputs": [],
   "source": []
  }
 ],
 "metadata": {
  "kernelspec": {
   "display_name": "Python 3 (ipykernel)",
   "language": "python",
   "name": "python3"
  },
  "language_info": {
   "codemirror_mode": {
    "name": "ipython",
    "version": 3
   },
   "file_extension": ".py",
   "mimetype": "text/x-python",
   "name": "python",
   "nbconvert_exporter": "python",
   "pygments_lexer": "ipython3",
   "version": "3.10.11"
  }
 },
 "nbformat": 4,
 "nbformat_minor": 5
}
